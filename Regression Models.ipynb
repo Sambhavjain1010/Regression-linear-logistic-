{
  "cells": [
    {
      "cell_type": "markdown",
      "metadata": {
        "id": "emjAQ_34SozP"
      },
      "source": [
        "# Programming Assignment 1"
      ]
    },
    {
      "cell_type": "markdown",
      "metadata": {
        "id": "tKkKCHwsSozQ"
      },
      "source": [
        "In this programming assignment, you will implement a linear regression model and a logistic regression model.\n",
        "\n",
        "In Part 1, you have to implement a linear regression model to predict the price of a house based on various input features.\n",
        "\n",
        "In Part 2, you have to implement a logistic regression model to predict the species of a grain using various morphological features.\n",
        "\n",
        "The assignment zip file (ML_Assignment_1.zip) contains 4 datasets which will be used in this assignment.\n",
        "\n",
        "You have to write your code in this jupyter notebook and submit the solved jupyter notebook with the file name \\<Roll_No\\>_A1.ipynb for evaluation. You have to enter your code only in those cells which are marked as ```## CODE REQUIRED ##```, and you have to write your code only between ```### START CODE HERE ###``` and ```### END CODE HERE ###``` comments."
      ]
    },
    {
      "cell_type": "markdown",
      "metadata": {
        "id": "jHPf8pHpSozR"
      },
      "source": [
        "## Part 1: Linear Regression\n",
        "\n",
        "### Problem Statement  \n",
        "A real estate company is building a machine learning model to determine the price of a house. The model will take various information regarding a house as input features and predict the price per unit area. They decided to use the linear regression as the machine learning model. Your task is to help the company to build the model.\n",
        "Given various features of a house, you will create a linear regression model to predict the price of the house.\n",
        "\n",
        "### Data Description\n",
        "\n",
        "**For Even Roll Number Students:**\n",
        "\n",
        "Dataset Filename: Taiwan_House.csv\n",
        "\n",
        "Attributes Information:\n",
        "1. Transaction date\n",
        "2. House age\n",
        "3. Distance to the nearest MRT station\n",
        "4. Number of convenience stores\n",
        "5. Latitude\n",
        "6. Longitude\n",
        "\n",
        "Target variable: house price of unit area\n",
        "\n",
        "**For Odd Roll Number Students:**\n",
        "\n",
        "Dataset Filename: Boston_House.csv\n",
        "\n",
        "Attributes Information:\n",
        "1. CRIM: per capita crime rate by town\n",
        "2. ZN: proportion of residential land zoned for lots over 25,000 sq.ft.\n",
        "3. INDUS: proportion of non-­retail business acres per town\n",
        "4. CHAS: Charles River dummy variable (= 1 if tract bounds river; 0 otherwise)\n",
        "5. NOX: nitric oxides concentration (parts per 10 million)\n",
        "6. RM: average number of rooms per dwelling\n",
        "7. AGE: proportion of owner­occupied units built prior to 1940\n",
        "8. DIS: weighted distances to five Boston employment centres\n",
        "9. RAD: index of accessibility to radial highways\n",
        "10. TAX: full-­value property-­tax rate per $10,000\n",
        "\n",
        "11. PTRATIO: pupil-­teacher ratio by town\n",
        "12. B: 1000(Bk ­- 0.63)^2 where Bk is the proportion of blacks by town\n",
        "13. LSTAT: % lower status of the population\n",
        "\n",
        "Target Variable: MEDV: Median value of owner-­occupied homes in $1000's\n",
        "\n",
        "\n",
        "These are the following steps or functions that you have to complete to create and train the linear regression model:\n",
        "1. Reading the data\n",
        "2. Computing the loss function\n",
        "3. Computing the gradient of the loss\n",
        "4. Training the model using Batch Gradient Descent\n"
      ]
    },
    {
      "cell_type": "code",
      "execution_count": 28,
      "metadata": {
        "colab": {
          "base_uri": "https://localhost:8080/"
        },
        "id": "tEtOS_nHgW9X",
        "outputId": "b79d38c1-94a3-4360-b180-d727fa526329"
      },
      "outputs": [
        {
          "output_type": "stream",
          "name": "stdout",
          "text": [
            "Drive already mounted at /content/drive; to attempt to forcibly remount, call drive.mount(\"/content/drive\", force_remount=True).\n"
          ]
        }
      ],
      "source": [
        "from google.colab import drive\n",
        "drive.mount('/content/drive')"
      ]
    },
    {
      "cell_type": "code",
      "execution_count": 29,
      "metadata": {
        "id": "rJDNL8y8SozR"
      },
      "outputs": [],
      "source": [
        "import numpy as np\n",
        "import pandas as pd\n",
        "import matplotlib.pyplot as plt\n",
        "import copy\n",
        "import math\n",
        "import random"
      ]
    },
    {
      "cell_type": "markdown",
      "metadata": {
        "id": "S5ExYIXiSozS"
      },
      "source": [
        "### 1.1. Reading the data"
      ]
    },
    {
      "cell_type": "markdown",
      "metadata": {
        "id": "FgnxuEDkSozS"
      },
      "source": [
        "In the following function ```load_data```, you have to read the data from the file and store the data into a pandas dataframe. Then you have to create two numpy arrays $X$ and $y$ from the dataframe:\n",
        "\n",
        "+ $X$: Input data of the shape (number of samples, number of input features)\n",
        "+ $y$: Target variable of the shape (number of samples,)\n"
      ]
    },
    {
      "cell_type": "code",
      "execution_count": 30,
      "metadata": {
        "colab": {
          "base_uri": "https://localhost:8080/"
        },
        "id": "DEal5SFmSozS",
        "outputId": "6bcb5f40-6779-4ce8-e91d-37bafb198a0a"
      },
      "outputs": [
        {
          "output_type": "stream",
          "name": "stdout",
          "text": [
            "Shape of X:  (506, 13) Shape of y:  (506,)\n"
          ]
        }
      ],
      "source": [
        "## CODE REQUIRED ##\n",
        "\n",
        "def load_data(filepath):\n",
        "    \"\"\"\n",
        "    This function loads the data into a pandas dataframe and coverts it into X and y numpy arrays\n",
        "\n",
        "    Args:\n",
        "        filepath: File path as a string\n",
        "    Returns:\n",
        "        X: Input data of the shape (# of samples, # of input features)\n",
        "        y: Target variable of the shape (# of sample,)\n",
        "    \"\"\"\n",
        "\n",
        "    ### START CODE HERE ###\n",
        "    df = pd.read_csv(filepath)\n",
        "    X = df.drop(columns = [target_column]).values\n",
        "    y = df[target_column].values\n",
        "    ### END CODE HERE ###\n",
        "\n",
        "    return X,y\n",
        "\n",
        "filepath = '/content/drive/MyDrive/Colab Notebooks/Boston_House.csv'\n",
        "target_column = 'MEDV'\n",
        "### START CODE HERE ###\n",
        "## set the file path\n",
        "\n",
        "### END CODE HERE ###\n",
        "X, y = load_data(filepath)\n",
        "\n",
        "print(\"Shape of X: \",X.shape, \"Shape of y: \",y.shape)"
      ]
    },
    {
      "cell_type": "markdown",
      "metadata": {
        "id": "se3Qrch5PoIO"
      },
      "source": [
        "We will not use all the features from ```X```.\n",
        "\n",
        "**For Even Roll Number Students:**\n",
        "Set the last two digits of your roll number as the random seed and pick a number ``r`` between 3 and 6 (both inclusive) randomly. Use the first ```r``` features of the numpy array ```X```.\n",
        "\n",
        "**For Odd Roll Number Students:**\n",
        "Set the last two digits of your roll number as the random seed and pick a number ``r`` between 9 and 13 (both inclusive) randomly. Use the first ```r``` features of the numpy array ```X```.\n"
      ]
    },
    {
      "cell_type": "code",
      "execution_count": 31,
      "metadata": {
        "colab": {
          "base_uri": "https://localhost:8080/"
        },
        "id": "mnRd0p8LtRJ5",
        "outputId": "221fc960-38ad-48a3-cc5a-e138311b2f1a"
      },
      "outputs": [
        {
          "output_type": "stream",
          "name": "stdout",
          "text": [
            "Shape of X:  (506, 10) Shape of y:  (506,)\n"
          ]
        }
      ],
      "source": [
        "## CODE REQUIRED ##\n",
        "\n",
        "def random_feature_selection(X):\n",
        "    \"\"\"\n",
        "    For Even Roll Number Students: Set the last two digits of your roll number as the random seed and pick a number r\n",
        "    between 3 and 6 randomly. Use the first ```r``` features of the numpy array X.\n",
        "    For Odd Roll Number Students: Set the last two digits of your roll number as the random seed and pick a number r\n",
        "    between 9 and 13 randomly. Use the first ```r``` features of the numpy array X.\n",
        "    Args:\n",
        "        X: Input data of the shape (# of samples, # of input features)\n",
        "    Returns:\n",
        "        X_new: New input data of the shape (# of samples, r) containg only the first r features from X\n",
        "    \"\"\"\n",
        "\n",
        "    X_new = None\n",
        "\n",
        "    ### START CODE HERE ###\n",
        "    random.seed(39)\n",
        "    r = random.randint(9, 14)\n",
        "    X_new = X[:, :r]\n",
        "    ### END CODE HERE ###\n",
        "\n",
        "    return X_new\n",
        "\n",
        "X = random_feature_selection(X)\n",
        "print(\"Shape of X: \",X.shape, \"Shape of y: \",y.shape)"
      ]
    },
    {
      "cell_type": "markdown",
      "metadata": {
        "id": "4FAc8UixtqLS"
      },
      "source": [
        "We need to pre-process the data. We are using min-max scaler to scale the input data ($X$).\n",
        "\n",
        "After that, we split the data (```X``` and ```y```) into a training dataset (```X_train``` and ```y_train```) and test dataset (```X_test``` and ```y_test```)."
      ]
    },
    {
      "cell_type": "code",
      "execution_count": 32,
      "metadata": {
        "colab": {
          "base_uri": "https://localhost:8080/"
        },
        "id": "LLmD1I3-SozT",
        "outputId": "3fdfe712-c125-4784-c2d1-35a1c0b3dfe2"
      },
      "outputs": [
        {
          "output_type": "stream",
          "name": "stdout",
          "text": [
            "Shape of X_train:  (379, 10) Shape of y_train:  (379,)\n",
            "Shape of X_test:  (127, 10) Shape of y_test:  (127,)\n"
          ]
        }
      ],
      "source": [
        "## Data scaling and train-test split\n",
        "\n",
        "def train_test_split(X, y, test_size=0.25, random_state=None):\n",
        "    if random_state is not None:\n",
        "        np.random.seed(random_state)\n",
        "    indices = np.arange(X.shape[0])\n",
        "    np.random.shuffle(indices)\n",
        "\n",
        "    split_index = int(X.shape[0] * (1 - test_size))\n",
        "\n",
        "    train_indices = indices[:split_index]\n",
        "    test_indices = indices[split_index:]\n",
        "\n",
        "    X_train = X[train_indices]\n",
        "    X_test = X[test_indices]\n",
        "    y_train = y[train_indices]\n",
        "    y_test = y[test_indices]\n",
        "\n",
        "    return X_train, X_test, y_train, y_test\n",
        "\n",
        "def min_max_scaler(X, feature_range=(0, 1)):\n",
        "    X_min = np.min(X, axis=0)\n",
        "    X_max = np.max(X, axis=0)\n",
        "\n",
        "    X_scaled = (X-X_min)/(X_max-X_min)\n",
        "\n",
        "    return X_scaled\n",
        "\n",
        "X = min_max_scaler(X)\n",
        "X_train, X_test, y_train, y_test = train_test_split(X, y, test_size=0.25, random_state=42)\n",
        "print(\"Shape of X_train: \",X_train.shape, \"Shape of y_train: \",y_train.shape)\n",
        "print(\"Shape of X_test: \",X_test.shape, \"Shape of y_test: \",y_test.shape)"
      ]
    },
    {
      "cell_type": "markdown",
      "metadata": {
        "id": "xrFEUV2-SozU"
      },
      "source": [
        "### 1.2. Computing the Loss Function"
      ]
    },
    {
      "cell_type": "markdown",
      "metadata": {
        "id": "I1BC0TPCSozU"
      },
      "source": [
        "In linear regression, the model parameters are:\n",
        "\n",
        "+ $w$: Parameters of the linear regression model (excluding the bias) of the shape (1, number of features)\n",
        "\n",
        "+ $b$: Bias parameter (scalar) of the linear regression model\n",
        "\n",
        "Both $w$ and $b$ are numpy arrays.\n",
        "\n",
        "Given the model parameters $w$ and $b$, the prediction for an input sample $X^i$ is:\n",
        "$$h_{w,b}(X^i) = w \\cdot X^i + b$$\n",
        "where $X^i$ is the $i^{th}$ training sample with shape (number of features,1)\n",
        "\n",
        "For linear regression, you have to implement and compute Mean Squarred Error loss fucntion:\n",
        "$$ L_{w,b}(X) = \\sum_{i=1}^{m}(y^i - h_{w,b}(X^i))^2 $$\n",
        "where $y^i$ is the true target value for the $i^{th}$ sample and $h_{w,b}(X^i)$ is the predicted value for the $i^{th}$ sample using the parameters $w$ and $b$.\n",
        "\n",
        "$w$ is the list of parameters excluding the bias and $b$ is the bias term."
      ]
    },
    {
      "cell_type": "code",
      "execution_count": 33,
      "metadata": {
        "id": "t6GqZMlYSozV"
      },
      "outputs": [],
      "source": [
        "## CODE REQUIRED ##\n",
        "def predict(X,w,b):\n",
        "    return np.dot(X, w.T) + b\n",
        "\n",
        "def loss_function(X, y, w, b):\n",
        "    \"\"\"\n",
        "    Computes the cost function for linear regression.\n",
        "\n",
        "    Args:\n",
        "        X: Input data of the shape (# of training samples, # of input features)\n",
        "        y: Target variable of the shape (# of training sample,)\n",
        "        w: Parameters of the linear regression model (excluding the bias) of the shape (1, number of features)\n",
        "        b: Bias parameter (scalar) of the linear regression model\n",
        "\n",
        "    Returns\n",
        "        loss: The loss function value of using w and b as the parameters to fit the data points in X and y\n",
        "    \"\"\"\n",
        "    # number of training examples\n",
        "    m = X.shape[0]\n",
        "\n",
        "    ### START CODE HERE ###\n",
        "    h = predict(X,w,b)\n",
        "    loss = np.sum((y - h)**2) / (2*m)\n",
        "\n",
        "    ### END CODE HERE ###\n",
        "\n",
        "    return loss"
      ]
    },
    {
      "cell_type": "markdown",
      "metadata": {
        "id": "l0h7jhxGSozV"
      },
      "source": [
        "### 1.3. Comptuing the Gradient of the Loss\n",
        "\n",
        "In this following function ```compute_gradient```, you have to compute the gradients $\\frac{\\partial L}{\\partial w}$ and $\\frac{\\partial L}{\\partial b}$ of the loss $L$ w.r.t. $w$ and $b$. More specifically, you have to iterate over every training example and compute the gradients of the loss for that training example. Finally, aggregate the gradient values for all the training examples and take the average. The gradients can be computed as:\n",
        "$$\\frac{\\partial L}{\\partial w} = \\frac{1}{m} \\sum_{i=1}^m (h_{w,b}(X^i)-y^i)X^i$$\n",
        "\n",
        "$$\\frac{\\partial L}{\\partial b} = \\frac{1}{m} \\sum_{i=1}^{m} (h_{w,b}(X^i)-y^i)$$\n"
      ]
    },
    {
      "cell_type": "code",
      "execution_count": 34,
      "metadata": {
        "id": "do-IiCTZSozV"
      },
      "outputs": [],
      "source": [
        "## CODE REQUIRED ##\n",
        "def compute_gradient(X, y, w, b):\n",
        "    \"\"\"\n",
        "    Computes the gradient values\n",
        "    Args:\n",
        "       X: Input data of the shape (# of training samples, # of input features)\n",
        "       y: Target variable of the shape (# of training sample,)\n",
        "       w: Parameters of the linear regression model (excluding the bias) of the shape (1, number of features)\n",
        "       b: Bias parameter of the linear regression model of the shape (1,1) or a scaler\n",
        "    Returns:\n",
        "       dL_dw : The gradient of the cost w.r.t. the parameters w with shape same as w\n",
        "       dL_db : The gradient of the cost w.r.t. the parameter b with shape same as b\n",
        "    \"\"\"\n",
        "\n",
        "    # Number of training examples\n",
        "    m = X.shape[0]\n",
        "\n",
        "    dL_dw = None\n",
        "    dL_db = None\n",
        "\n",
        "    ### START CODE HERE ###\n",
        "    h = predict(X,w,b)\n",
        "    dL_dw = np.dot(X.T, (h - y)) / m\n",
        "    dL_db = np.sum(h - y) / m\n",
        "    ### END CODE HERE ###\n",
        "    return dL_dw, dL_db"
      ]
    },
    {
      "cell_type": "markdown",
      "metadata": {
        "id": "uYL1jWaZSozV"
      },
      "source": [
        "### 1.4. Training the Model using Batch Gradient Descent"
      ]
    },
    {
      "cell_type": "markdown",
      "metadata": {
        "id": "2vwyRzWqSozV"
      },
      "source": [
        "Finally, you have to implement the batch gradient descent algorithm to train and learn the parameters of the linear regression model. You have to use ```loss_function``` and ```compute_gradient``` functions that you have implemented earlier in this assignment.\n",
        "\n",
        "In this ```batch_gradient_descent``` function, you have to compute the gradient for the training samples and update the parameters $w$ and $b$ in every iteration:\n",
        "\n",
        "+ $w \\leftarrow w - \\alpha \\frac{\\partial L}{\\partial w}$\n",
        "\n",
        "+ $b \\leftarrow b - \\alpha \\frac{\\partial L}{\\partial b}$\n",
        "\n",
        "Additionally, you have compute the loss function values in every iteration and store it in the list variable ```loss_hist``` and print the loss value after every 100 iterations during the training process."
      ]
    },
    {
      "cell_type": "code",
      "execution_count": 35,
      "metadata": {
        "id": "UHKldb3hSozV"
      },
      "outputs": [],
      "source": [
        "## CODE REQUIRED ##\n",
        "\n",
        "def batch_gradient_descent(X, y, w_initial, b_initial, alpha, num_iters):\n",
        "    \"\"\"\n",
        "    Batch gradient descent to learn the parameters (w and b) of the linear regression model and to print loss values\n",
        "    every 100 iterations\n",
        "\n",
        "    Args:\n",
        "        X: Input data of the shape (# of training samples, # of input features)\n",
        "        y: Target variable of the shape (# of training sample,)\n",
        "        w_initial: Initial parameters of the linear regression model (excluding the bias) of the shape (1, number of features)\n",
        "        b_initial: Initial bias parameter (scalar) of the linear regression model\n",
        "        alpha: Learning rate\n",
        "        num_iters: number of iterations\n",
        "    Returns\n",
        "        w: Updated values of parameters of the model after training\n",
        "        b: Updated bias of the model after training\n",
        "        loss_hist: List of loss values for every iteration\n",
        "    \"\"\"\n",
        "\n",
        "    # number of training examples\n",
        "    m = X.shape[0]\n",
        "\n",
        "    # to store loss values for every iteation as a list and print loss value after every 100 iterations\n",
        "    loss_hist = []\n",
        "\n",
        "    # Initialize parameters\n",
        "    w = copy.deepcopy(w_initial) ## deepcopy is used so that the updates do not change the initial variable values\n",
        "    b = b_initial\n",
        "\n",
        "    ### START CODE HERE ###\n",
        "    for i in range(num_iters):\n",
        "      dw, db = compute_gradient(X, y, w, b)\n",
        "      w = w - alpha * dw\n",
        "      b = b - alpha * db\n",
        "\n",
        "      loss = loss_function(X,y,w,b)\n",
        "      loss_hist.append(loss)\n",
        "\n",
        "      if i % 100 == 0:\n",
        "        print(f\"Iteration {i}: Loss = {loss}\")\n",
        "\n",
        "    ### END CODE HERE ###\n",
        "\n",
        "    return w, b, loss_hist"
      ]
    },
    {
      "cell_type": "markdown",
      "metadata": {
        "id": "y0h3DUMwNocp"
      },
      "source": [
        "Now you have to intialize the model parameters ($w$ and $b$) and learning rate (```alpha```). The learning rate ```alpha``` has to be randomly initialized between 0.0001 and 0.001. For the learning rate, you have to first set the last two digits of your roll number as the random seed using ```random.seed()``` function."
      ]
    },
    {
      "cell_type": "code",
      "execution_count": 36,
      "metadata": {
        "id": "Xd8QFReNDyGs"
      },
      "outputs": [],
      "source": [
        "## CODE REQUIRED ##\n",
        "\n",
        "## set the last two digits of your roll number as the random seed\n",
        "random_seed = None\n",
        "### START CODE HERE ###\n",
        "random_seed = 39\n",
        "### END CODE HERE ###\n",
        "np.random.seed(random_seed)\n",
        "\n",
        "def initialize_parameters():\n",
        "    \"\"\"\n",
        "    This function randomly initializes the model parameters (w and b) and the hyperparameter alpha\n",
        "    Initial w and b should be randomly sampled from a normal distribution with mean 0\n",
        "    alpha should be randomly initialized between 0.0001 and 0.001 by using last two digits of your roll number as the random seed\n",
        "    Args:\n",
        "        None\n",
        "    Returns:\n",
        "        initial_w: Initial parameters of the linear regression model (excluding the bias) of the shape (1, number of features)\n",
        "        initial_b: Initial bias parameter (scalar) of the linear regression model\n",
        "        alpha: Learning rate\n",
        "    \"\"\"\n",
        "\n",
        "    initial_w = None\n",
        "    initial_b = None\n",
        "    alpha = None\n",
        "\n",
        "    ### START CODE HERE ###\n",
        "    initial_w = np.random.normal(0, 1, 10)\n",
        "    initial_b = np.random.normal(0, 1)\n",
        "\n",
        "    alpha = np.random.uniform(0.0001, 0.001)\n",
        "    ### END CODE HERE ###\n",
        "    return initial_w,initial_b,alpha\n"
      ]
    },
    {
      "cell_type": "markdown",
      "metadata": {
        "id": "l7nt5VdORUEu"
      },
      "source": [
        "In the next cell, the model is trained using batch gradient descent algorithm for ```num_iters=10000``` iterations. You can change the number of iterations to check any improvements in the performance."
      ]
    },
    {
      "cell_type": "code",
      "execution_count": 37,
      "metadata": {
        "colab": {
          "base_uri": "https://localhost:8080/"
        },
        "id": "9rAYubtASozV",
        "outputId": "74f27416-f6f3-46f8-f9f2-9d78e2f70074"
      },
      "outputs": [
        {
          "output_type": "stream",
          "name": "stdout",
          "text": [
            "Iteration 0: Loss = 300.4867978648156\n",
            "Iteration 100: Loss = 221.09672326422893\n",
            "Iteration 200: Loss = 168.4769865158577\n",
            "Iteration 300: Loss = 133.38993115752376\n",
            "Iteration 400: Loss = 109.79527184716666\n",
            "Iteration 500: Loss = 93.74296198470799\n",
            "Iteration 600: Loss = 82.64944116719741\n",
            "Iteration 700: Loss = 74.82450406502153\n",
            "Iteration 800: Loss = 69.16200450215341\n",
            "Iteration 900: Loss = 64.9376612528882\n",
            "Iteration 1000: Loss = 61.676877998029376\n",
            "Iteration 1100: Loss = 59.06833272989407\n",
            "Iteration 1200: Loss = 56.907487461459084\n",
            "Iteration 1300: Loss = 55.05965740546216\n",
            "Iteration 1400: Loss = 53.43586658226413\n",
            "Iteration 1500: Loss = 51.9770622108203\n",
            "Iteration 1600: Loss = 50.64379345836407\n",
            "Iteration 1700: Loss = 49.40946241486908\n",
            "Iteration 1800: Loss = 48.25591037120161\n",
            "Iteration 1900: Loss = 47.17053080275177\n",
            "Iteration 2000: Loss = 46.14438046174561\n",
            "Iteration 2100: Loss = 45.17094302283243\n",
            "Iteration 2200: Loss = 44.24531938366929\n",
            "Iteration 2300: Loss = 43.363696944082534\n",
            "Iteration 2400: Loss = 42.523001322362006\n",
            "Iteration 2500: Loss = 41.720667395105295\n",
            "Iteration 2600: Loss = 40.95448839946977\n",
            "Iteration 2700: Loss = 40.22251612209644\n",
            "Iteration 2800: Loss = 39.52299453768131\n",
            "Iteration 2900: Loss = 38.85431536514774\n",
            "Iteration 3000: Loss = 38.21498800040294\n",
            "Iteration 3100: Loss = 37.6036188937664\n",
            "Iteration 3200: Loss = 37.01889714587281\n",
            "Iteration 3300: Loss = 36.45958421100069\n",
            "Iteration 3400: Loss = 35.92450632586167\n",
            "Iteration 3500: Loss = 35.41254875858769\n",
            "Iteration 3600: Loss = 34.92265128436486\n",
            "Iteration 3700: Loss = 34.453804498015884\n",
            "Iteration 3800: Loss = 34.005046707170486\n",
            "Iteration 3900: Loss = 33.575461236903124\n",
            "Iteration 4000: Loss = 33.16417403381712\n",
            "Iteration 4100: Loss = 32.77035149494823\n",
            "Iteration 4200: Loss = 32.39319847137034\n",
            "Iteration 4300: Loss = 32.03195641246908\n",
            "Iteration 4400: Loss = 31.68590162742087\n",
            "Iteration 4500: Loss = 31.354343647382564\n",
            "Iteration 4600: Loss = 31.03662367650331\n",
            "Iteration 4700: Loss = 30.73211312293348\n",
            "Iteration 4800: Loss = 30.440212203055683\n",
            "Iteration 4900: Loss = 30.16034861354938\n",
            "Iteration 5000: Loss = 29.891976266851017\n",
            "Iteration 5100: Loss = 29.634574086234718\n",
            "Iteration 5200: Loss = 29.38764485721243\n",
            "Iteration 5300: Loss = 29.150714132300156\n",
            "Iteration 5400: Loss = 28.92332918646065\n",
            "Iteration 5500: Loss = 28.70505802074045\n",
            "Iteration 5600: Loss = 28.495488411787733\n",
            "Iteration 5700: Loss = 28.294227005079385\n",
            "Iteration 5800: Loss = 28.100898449808767\n",
            "Iteration 5900: Loss = 27.915144573495006\n",
            "Iteration 6000: Loss = 27.736623594473347\n",
            "Iteration 6100: Loss = 27.56500937051742\n",
            "Iteration 6200: Loss = 27.399990681928326\n",
            "Iteration 6300: Loss = 27.24127054750494\n",
            "Iteration 6400: Loss = 27.08856557188423\n",
            "Iteration 6500: Loss = 26.941605322810897\n",
            "Iteration 6600: Loss = 26.800131736962452\n",
            "Iteration 6700: Loss = 26.663898553019468\n",
            "Iteration 6800: Loss = 26.53267077073096\n",
            "Iteration 6900: Loss = 26.406224134782704\n",
            "Iteration 7000: Loss = 26.284344642330637\n",
            "Iteration 7100: Loss = 26.166828073114335\n",
            "Iteration 7200: Loss = 26.053479541114882\n",
            "Iteration 7300: Loss = 25.944113066769233\n",
            "Iteration 7400: Loss = 25.83855116879842\n",
            "Iteration 7500: Loss = 25.736624474750183\n",
            "Iteration 7600: Loss = 25.638171349397986\n",
            "Iteration 7700: Loss = 25.543037540177515\n",
            "Iteration 7800: Loss = 25.451075838879444\n",
            "Iteration 7900: Loss = 25.362145758853114\n",
            "Iteration 8000: Loss = 25.276113227009894\n",
            "Iteration 8100: Loss = 25.19285028994751\n",
            "Iteration 8200: Loss = 25.112234833547976\n",
            "Iteration 8300: Loss = 25.034150315431248\n",
            "Iteration 8400: Loss = 24.958485509675153\n",
            "Iteration 8500: Loss = 24.885134263239088\n",
            "Iteration 8600: Loss = 24.813995263554986\n",
            "Iteration 8700: Loss = 24.744971816773322\n",
            "Iteration 8800: Loss = 24.677971636175688\n",
            "Iteration 8900: Loss = 24.61290664028779\n",
            "Iteration 9000: Loss = 24.54969276024801\n",
            "Iteration 9100: Loss = 24.48824975600721\n",
            "Iteration 9200: Loss = 24.428501040954792\n",
            "Iteration 9300: Loss = 24.370373514584685\n",
            "Iteration 9400: Loss = 24.313797402832584\n",
            "Iteration 9500: Loss = 24.258706105732724\n",
            "Iteration 9600: Loss = 24.205036052058517\n",
            "Iteration 9700: Loss = 24.15272656062696\n",
            "Iteration 9800: Loss = 24.101719707961067\n",
            "Iteration 9900: Loss = 24.05196020201898\n",
            "Updated w:  [-0.56123644  5.76714992 -1.92277475  2.73667895 -0.58317625 15.54094149\n",
            "  1.25888589  3.38042292 -2.35614291 -3.05983433]\n",
            "Updated b:  14.847106846215711\n"
          ]
        }
      ],
      "source": [
        "# initialize the parameters and hyperparameter\n",
        "initial_w, initial_b, alpha = initialize_parameters()\n",
        "\n",
        "# number of iterations\n",
        "num_iters = 10000\n",
        "\n",
        "w,b,loss_hist = batch_gradient_descent(X_train ,y_train, initial_w, initial_b, alpha, num_iters)\n",
        "print(\"Updated w: \",w)\n",
        "print(\"Updated b: \",b)"
      ]
    },
    {
      "cell_type": "markdown",
      "metadata": {
        "id": "sluek2LkSozW"
      },
      "source": [
        "### 1.5. Final Train Error and Test Error"
      ]
    },
    {
      "cell_type": "markdown",
      "metadata": {
        "id": "EH9oHC10fAlV"
      },
      "source": [
        "After the linear regression model is trained, we will compute the final train error and test error for the trained model."
      ]
    },
    {
      "cell_type": "code",
      "execution_count": 38,
      "metadata": {
        "colab": {
          "base_uri": "https://localhost:8080/"
        },
        "id": "UIXb7sSvSozW",
        "outputId": "928f42d3-45c5-4748-f84f-895ab9fbc272"
      },
      "outputs": [
        {
          "output_type": "stream",
          "name": "stdout",
          "text": [
            "Train Error:  24.00387516538538 , Test Error:  21.977744250584387\n"
          ]
        }
      ],
      "source": [
        "## Train and Test error computation\n",
        "\n",
        "train_error = loss_function(X_train,y_train,w,b)\n",
        "test_error = loss_function(X_test,y_test,w,b)\n",
        "print(\"Train Error: \",train_error, \", Test Error: \",test_error)"
      ]
    },
    {
      "cell_type": "markdown",
      "metadata": {
        "id": "eximd12PbAgC"
      },
      "source": [
        "### 1.6. Plotting the loss function"
      ]
    },
    {
      "cell_type": "markdown",
      "metadata": {
        "id": "meDwLCCIfOBo"
      },
      "source": [
        "We will plot the loss function values for every training iteration. If the model is trained properly, you will see that the loss function reduces as the training progesses and it converges at some point."
      ]
    },
    {
      "cell_type": "code",
      "execution_count": 39,
      "metadata": {
        "colab": {
          "base_uri": "https://localhost:8080/",
          "height": 449
        },
        "id": "DW4bue0oSozW",
        "outputId": "a66035e3-bd30-4bb1-b545-93825778f530"
      },
      "outputs": [
        {
          "output_type": "display_data",
          "data": {
            "text/plain": [
              "<Figure size 640x480 with 1 Axes>"
            ],
            "image/png": "[encoded data removed]"
          },
          "metadata": {}
        }
      ],
      "source": [
        "# PLotting the loss values for every training iterations\n",
        "\n",
        "loss_plot = [loss_hist[i] for i in range(len(loss_hist))]\n",
        "plt.xlabel(\"Iterations\")\n",
        "plt.ylabel(\"Loss function\")\n",
        "plt.plot(loss_plot)\n",
        "plt.show()"
      ]
    },
    {
      "cell_type": "markdown",
      "metadata": {
        "id": "BAVgq4HWCmDX"
      },
      "source": [
        "### 1.7 Experimenting with different values of the Hyperparemeters\n",
        "\n",
        "Previously, we randomly sampled the learning rate and the number of features to train the model. Now, you have to manually choose the number of features and the learning rate. Then, you have to train the model again on the manually choosen hyperparameters (number of features and learning rate). In the next cell, you have to manually choose the hyperparameters and write the code to train the model.\n",
        "\n",
        "After the model is trained, you have to compare the performance of the model with random chosen hyperparameters and manually chosen hyperparameters."
      ]
    },
    {
      "cell_type": "code",
      "execution_count": 40,
      "metadata": {
        "colab": {
          "base_uri": "https://localhost:8080/",
          "height": 1000
        },
        "id": "K2QuEbE1Clxq",
        "outputId": "ba3b7fa3-7a5b-43b8-af68-a8c5ae76b40b"
      },
      "outputs": [
        {
          "output_type": "stream",
          "name": "stdout",
          "text": [
            "Iteration 0: Loss = 260.54600916360687\n",
            "Iteration 100: Loss = 186.04324955922533\n",
            "Iteration 200: Loss = 140.08437981242798\n",
            "Iteration 300: Loss = 111.41644812486042\n",
            "Iteration 400: Loss = 93.24012988986645\n",
            "Iteration 500: Loss = 81.44615634633124\n",
            "Iteration 600: Loss = 73.55014270109143\n",
            "Iteration 700: Loss = 68.04923678512797\n",
            "Iteration 800: Loss = 64.03353976369463\n",
            "Iteration 900: Loss = 60.95140474921132\n",
            "Iteration 1000: Loss = 58.46767513281983\n",
            "Iteration 1100: Loss = 56.37805710158784\n",
            "Iteration 1200: Loss = 54.55739647518387\n",
            "Iteration 1300: Loss = 52.92843342452527\n",
            "Iteration 1400: Loss = 51.442925740629256\n",
            "Iteration 1500: Loss = 50.070242754314314\n",
            "Iteration 1600: Loss = 48.790471652829616\n",
            "Iteration 1700: Loss = 47.5902494495425\n",
            "Iteration 1800: Loss = 46.46024143354781\n",
            "Iteration 1900: Loss = 45.39361428616654\n",
            "Iteration 2000: Loss = 44.3851101694306\n",
            "Iteration 2100: Loss = 43.430483990787074\n",
            "Iteration 2200: Loss = 42.52616020901177\n",
            "Iteration 2300: Loss = 41.669022418229204\n",
            "Iteration 2400: Loss = 40.85628329705145\n",
            "Iteration 2500: Loss = 40.08540325719443\n",
            "Iteration 2600: Loss = 39.35403865743378\n",
            "Iteration 2700: Loss = 38.66000801802432\n",
            "Iteration 2800: Loss = 38.001269242842724\n",
            "Iteration 2900: Loss = 37.37590361841923\n",
            "Iteration 3000: Loss = 36.7821040275592\n",
            "Iteration 3100: Loss = 36.218165823397435\n",
            "Iteration 3200: Loss = 35.682479418982105\n",
            "Iteration 3300: Loss = 35.173524015800204\n",
            "Iteration 3400: Loss = 34.68986211743035\n",
            "Iteration 3500: Loss = 34.230134609361365\n",
            "Iteration 3600: Loss = 33.79305626774849\n",
            "Iteration 3700: Loss = 33.377411609514354\n",
            "Iteration 3800: Loss = 32.98205102643522\n",
            "Iteration 3900: Loss = 32.60588716435512\n",
            "Iteration 4000: Loss = 32.2478915200731\n",
            "Iteration 4100: Loss = 31.907091235551945\n",
            "Iteration 4200: Loss = 31.58256607359068\n",
            "Iteration 4300: Loss = 31.273445562010732\n",
            "Iteration 4400: Loss = 30.978906295344203\n",
            "Iteration 4500: Loss = 30.698169384356465\n",
            "Iteration 4600: Loss = 30.43049804470978\n",
            "Iteration 4700: Loss = 30.175195316818552\n",
            "Iteration 4800: Loss = 29.93160190954153\n",
            "Iteration 4900: Loss = 29.699094160854067\n",
            "Iteration 5000: Loss = 29.47708210907483\n",
            "Iteration 5100: Loss = 29.265007668605794\n",
            "Iteration 5200: Loss = 29.062342904493033\n",
            "Iteration 5300: Loss = 28.868588400437446\n",
            "Iteration 5400: Loss = 28.683271715183523\n",
            "Iteration 5500: Loss = 28.505945922493375\n",
            "Iteration 5600: Loss = 28.336188230175818\n",
            "Iteration 5700: Loss = 28.17359867388763\n",
            "Iteration 5800: Loss = 28.017798881656475\n",
            "Iteration 5900: Loss = 27.86843090529558\n",
            "Iteration 6000: Loss = 27.72515611508754\n",
            "Iteration 6100: Loss = 27.587654154311274\n",
            "Iteration 6200: Loss = 27.45562195037165\n",
            "Iteration 6300: Loss = 27.328772779467\n",
            "Iteration 6400: Loss = 27.20683538189561\n",
            "Iteration 6500: Loss = 27.089553125259183\n",
            "Iteration 6600: Loss = 26.97668321297019\n",
            "Iteration 6700: Loss = 26.867995935609716\n",
            "Iteration 6800: Loss = 26.763273962816083\n",
            "Iteration 6900: Loss = 26.662311673509375\n",
            "Iteration 7000: Loss = 26.564914522376498\n",
            "Iteration 7100: Loss = 26.47089844065317\n",
            "Iteration 7200: Loss = 26.380089269346133\n",
            "Iteration 7300: Loss = 26.292322223138978\n",
            "Iteration 7400: Loss = 26.207441383320244\n",
            "Iteration 7500: Loss = 26.125299218162503\n",
            "Iteration 7600: Loss = 26.045756129266042\n",
            "Iteration 7700: Loss = 25.96868002246141\n",
            "Iteration 7800: Loss = 25.89394590194098\n",
            "Iteration 7900: Loss = 25.821435486362002\n",
            "Iteration 8000: Loss = 25.75103684573138\n",
            "Iteration 8100: Loss = 25.682644057947066\n",
            "Iteration 8200: Loss = 25.61615688393183\n",
            "Iteration 8300: Loss = 25.5514804603526\n",
            "Iteration 8400: Loss = 25.488525008973436\n",
            "Iteration 8500: Loss = 25.42720556174141\n",
            "Iteration 8600: Loss = 25.367441700753613\n",
            "Iteration 8700: Loss = 25.309157312299615\n",
            "Iteration 8800: Loss = 25.252280354217234\n",
            "Iteration 8900: Loss = 25.196742635840867\n",
            "Iteration 9000: Loss = 25.142479609860548\n",
            "Iteration 9100: Loss = 25.08943017544692\n",
            "Iteration 9200: Loss = 25.037536492032057\n",
            "Iteration 9300: Loss = 24.986743803169404\n",
            "Iteration 9400: Loss = 24.937000269926862\n",
            "Iteration 9500: Loss = 24.888256813297176\n",
            "Iteration 9600: Loss = 24.840466965137235\n",
            "Iteration 9700: Loss = 24.79358672717456\n",
            "Iteration 9800: Loss = 24.747574437644236\n",
            "Iteration 9900: Loss = 24.70239064514322\n",
            "Updated w:  [-1.91850127  5.74560917 -2.09653438  3.21568317 -0.98746947 14.5695667\n",
            "  2.32411162  5.79558557 -2.41601206 -3.19996533]\n",
            "Updated b:  14.434537699664824\n"
          ]
        },
        {
          "output_type": "display_data",
          "data": {
            "text/plain": [
              "<Figure size 640x480 with 1 Axes>"
            ],
            "image/png": "[encoded data removed]"
          },
          "metadata": {}
        }
      ],
      "source": [
        "## CODE REQUIRED ##\n",
        "\n",
        "\"\"\"\n",
        "Manually choose the hyperparameters (learning rate and number of features) and train the model.\n",
        "Then compare the performance with random chosen hyperparameters and manually chosen hyperparameters.\n",
        "\"\"\"\n",
        "\n",
        "### START CODE HERE ###\n",
        "initial_w = np.array([0.2, 0.3, 0.42, 0.51, 0.65, 0.74, 0.13, 0.7, 0.9, 0.85])\n",
        "initial_b = 0\n",
        "alpha = 0.001\n",
        "\n",
        "w,b,loss_hist = batch_gradient_descent(X_train ,y_train, initial_w, initial_b, alpha, num_iters)\n",
        "print(\"Updated w: \",w)\n",
        "print(\"Updated b: \",b)\n",
        "### END CODE HERE ###\n",
        "\n",
        "loss_plot = [loss_hist[i] for i in range(len(loss_hist))]\n",
        "plt.xlabel(\"Iterations\")\n",
        "plt.ylabel(\"Loss function\")\n",
        "plt.plot(loss_plot)\n",
        "plt.show()"
      ]
    },
    {
      "cell_type": "markdown",
      "metadata": {
        "id": "XZ0CviUnZui0"
      },
      "source": [
        "## Part 2: Logistic Regression\n",
        "\n",
        "### Problem Statement\n",
        "A Food grain industry requires an efficient classification system to help in sorting food grain species. You have to develop a Logistic Regression model for this purpose.\n",
        " Given various features of a rice grain such as area, perimeter, axis lengths etc. as input features, the task is to build a logistic regression model to predict the species of the food grain.\n",
        "\n",
        "### Dataset Description\n",
        "\n",
        "**For Even Roll Number Students**\n",
        "\n",
        "Dataset Filename: Rice_Classification.csv\n",
        "\n",
        "Attribute Information:\n",
        "+ Area: Returns the number of pixels within the boundaries of the rice grain.\n",
        "+ Perimeter: Calculates the circumference by calculating the distance between pixels around the boundaries of the rice grain.\n",
        "+ Major Axis Length: The longest line that can be drawn on the rice grain, i.e. the main axis distance, gives.\n",
        "+ Minor Axis Length: The shortest line that can be drawn on the rice grain, i.e. the small axis distance, gives.\n",
        "+ Eccentricity: It measures how round the ellipse, which has the same moments as the rice grain, is.\n",
        "+ Convex Area: Returns the pixel count of the smallest convex shell of the region formed by the rice grain.\n",
        "+ Extent: Returns the ratio of the region formed by the rice grain to the bounding box pixels.\n",
        "\n",
        "Target Variable: Class: Cammeo and Osmancik\n",
        "\n",
        "**For Odd Roll Number Students**\n",
        "\n",
        "Dataset Filename: Pumpkin_Seeds_Dataset.csv\n",
        "\n",
        "Attribute Information:\n",
        "\n",
        "+ Area: Represents the number of pixels within the boundaries of the pumpkin seed.\n",
        "\n",
        "+ Perimeter: Calculates the circumference by measuring the distance between pixels around the boundary of the pumpkin seed.\n",
        "\n",
        "+ Major Axis Length: The longest line that can be drawn on the pumpkin seed, representing the main axis distance.\n",
        "\n",
        "+ Minor Axis Length: The shortest line that can be drawn on the pumpkin seed, representing the minor axis distance.\n",
        "\n",
        "+ Convex Area: Returns the pixel count of the smallest convex shell that can contain the pumpkin seed.\n",
        "\n",
        "+ Equivalent Diameter: Diameter of a circle with the same area as the pumpkin seed.\n",
        "\n",
        "+ Eccentricity: This measures how round the ellipse, which has the same moments as the pumpkin seed has.\n",
        "\n",
        "+ Solidity: This is the ratio of the area of the pumpkin seed to the area of its convex hull. It measures the extent to which the shape is convex.\n",
        "\n",
        "+ Extent: Returns the ratio of the area of the pumpkin seed to the area of its bounding box.\n",
        "\n",
        "+ Roundness: Measure of how closely the shape of the pumpkin seed approaches that of a circle.\n",
        "\n",
        "+ Aspect Ratio: Ratio of the major axis length to the minor axis length.\n",
        "\n",
        "+ Compactness: Measure of the shape's compactness, which is the shape's deviation from being a perfect circle. In essence, compactness quantifies how efficiently an object's area is packed within its perimeter.\n",
        "\n",
        "Target Variable: Class: Çerçevelik and Ürgüp Sivrisi\n",
        "\n",
        "\n",
        "\n",
        "These are the following steps or functions that you have to complete to create and train the linear regression model:\n",
        "1. Reading the data\n",
        "2. Creating the sigmoid function\n",
        "2. Computing the loss function\n",
        "3. Computing the gradient of the loss\n",
        "4. Training the model using Batch Gradient Descent"
      ]
    },
    {
      "cell_type": "code",
      "execution_count": 41,
      "metadata": {
        "id": "T27XOBZrRZ4M"
      },
      "outputs": [],
      "source": [
        "import numpy as np\n",
        "import pandas as pd\n",
        "import matplotlib.pyplot as plt\n",
        "from scipy.special import logsumexp\n",
        "import copy\n",
        "import math\n",
        "import random"
      ]
    },
    {
      "cell_type": "markdown",
      "metadata": {
        "id": "G3luUk4L0WO_"
      },
      "source": [
        "### 2.1. Reading the data\n",
        "\n",
        "In the function ```load_data```, you have to read data from the file, store it in a dataframe and split the data from the dataframe into two numpy arrays X and y.\n",
        "\n",
        "**X** : data of the input features\n",
        "\n",
        "**y**  : data of the class labels\n",
        "\n",
        "The class labels in **y** should be replaced with '0' and '1', for corresponding classes."
      ]
    },
    {
      "cell_type": "code",
      "execution_count": 42,
      "metadata": {
        "colab": {
          "base_uri": "https://localhost:8080/"
        },
        "id": "7-RV0JgEZi1h",
        "outputId": "4ead349c-9bed-4832-a8d6-7139a6763242"
      },
      "outputs": [
        {
          "output_type": "stream",
          "name": "stdout",
          "text": [
            "['Çerçevelik' 'Çerçevelik' 'Çerçevelik' ... 'Ürgüp Sivrisi'\n",
            " 'Ürgüp Sivrisi' 'Ürgüp Sivrisi']\n",
            "[0 0 0 ... 1 1 1]\n",
            "Shape of X:  (2500, 12) Shape of y:  (2500,)\n"
          ]
        }
      ],
      "source": [
        "## CODE REQUIRED ##\n",
        "\n",
        "def load_data(filepath):\n",
        "    \"\"\"\n",
        "    This function loads the data into a pandas dataframe and converts it into X and y numpy arrays\n",
        "    y should be a binary numpy array with values 0 and 1, for 2 different classes\n",
        "    Args:\n",
        "        filepath: File path as a string\n",
        "    Returns:\n",
        "        X: Input data of the shape (# of samples, # of input features)\n",
        "        y: Target variable of the shape (# of sample,) with values 0 and 1, for 2 different classes\n",
        "    \"\"\"\n",
        "\n",
        "    ### START CODE HERE ###\n",
        "    df = pd.read_csv(filepath)\n",
        "    X = df.drop(columns=[target]).values\n",
        "    y = df[target].values\n",
        "    print(y)\n",
        "    for i in range(X.shape[0]):\n",
        "      if y[i] == 'Çerçevelik':\n",
        "        y[i] = 0\n",
        "      if y[i] == 'Ürgüp Sivrisi':\n",
        "        y[i] = 1\n",
        "    print(y)\n",
        "    ### END CODE HERE ###\n",
        "\n",
        "    return X,y\n",
        "\n",
        "filepath = '/content/drive/MyDrive/Colab Notebooks/Pumpkin_Seeds_Dataset.csv'\n",
        "target = 'Class'\n",
        "### START CODE HERE ###\n",
        "## set the file path\n",
        "\n",
        "### END CODE HERE ###\n",
        "\n",
        "X, y = load_data(filepath)\n",
        "\n",
        "print(\"Shape of X: \",X.shape, \"Shape of y: \",y.shape)"
      ]
    },
    {
      "cell_type": "markdown",
      "metadata": {
        "id": "sLGPG1YU-C47"
      },
      "source": [
        "We will not use all the features from X.\n",
        "\n",
        "For Even Roll Number Students: Set the last two digits of your roll number as the random seed and pick a number r between 4 and 7 (both inclusive) randomly. Use the first r features of the numpy array X.\n",
        "\n",
        "For Odd Roll Number Students: Set the last two digits of your roll number as the random seed and pick a number r between 8 and 12 (both inclusive) randomly. Use the first r features of the numpy array X."
      ]
    },
    {
      "cell_type": "code",
      "execution_count": 43,
      "metadata": {
        "colab": {
          "base_uri": "https://localhost:8080/"
        },
        "id": "JNsDb2Ae94s6",
        "outputId": "f30445d2-e7ad-43b1-bf3c-2ea4a1cbc789"
      },
      "outputs": [
        {
          "output_type": "stream",
          "name": "stdout",
          "text": [
            "Shape of X:  (2500, 9) Shape of y:  (2500,)\n"
          ]
        }
      ],
      "source": [
        "## CODE REQUIRED ##\n",
        "\n",
        "def random_feature_selection(X):\n",
        "    \"\"\"\n",
        "\n",
        "    Args:\n",
        "        X: Input data of the shape (# of samples, # of input features)\n",
        "    Returns:\n",
        "        X_new: New input data of the shape (# of samples, r) containg only the first r features from X\n",
        "    \"\"\"\n",
        "\n",
        "    X_new = None\n",
        "\n",
        "    ### START CODE HERE ###\n",
        "    random.seed(39)\n",
        "    r = random.randint(8, 13)\n",
        "    X_new = X[:, :r]\n",
        "\n",
        "    ### END CODE HERE ###\n",
        "\n",
        "    return X_new\n",
        "\n",
        "X = random_feature_selection(X)\n",
        "print(\"Shape of X: \",X.shape, \"Shape of y: \",y.shape)"
      ]
    },
    {
      "cell_type": "markdown",
      "metadata": {
        "id": "t4u-qBe34wC9"
      },
      "source": [
        "We need to pre-process the data. We are using min-max scaler to scale the input data ($X$).\n",
        "\n",
        "After that, we split the data (```X``` and ```y```) into a training dataset (```X_train``` and ```y_train```) and test dataset (```X_test``` and ```y_test```)"
      ]
    },
    {
      "cell_type": "code",
      "execution_count": 44,
      "metadata": {
        "id": "YTO4etePa0i1",
        "colab": {
          "base_uri": "https://localhost:8080/"
        },
        "outputId": "3601ada6-6e29-47e9-999f-74812ffbcc01"
      },
      "outputs": [
        {
          "output_type": "stream",
          "name": "stdout",
          "text": [
            "Shape of X_train:  (1875, 9) Shape of y_train:  (1875,)\n",
            "Shape of X_test:  (625, 9) Shape of y_test:  (625,)\n"
          ]
        }
      ],
      "source": [
        "## Data scaling and train-test split\n",
        "\n",
        "def train_test_split(X, y, test_size=0.25, random_state=None):\n",
        "    if random_state is not None:\n",
        "        np.random.seed(random_state)\n",
        "    indices = np.arange(X.shape[0])\n",
        "    np.random.shuffle(indices)\n",
        "\n",
        "    split_index = int(X.shape[0] * (1 - test_size))\n",
        "\n",
        "    train_indices = indices[:split_index]\n",
        "    test_indices = indices[split_index:]\n",
        "\n",
        "    X_train = X[train_indices]\n",
        "    X_test = X[test_indices]\n",
        "    y_train = y[train_indices]\n",
        "    y_test = y[test_indices]\n",
        "\n",
        "    return X_train, X_test, y_train, y_test\n",
        "\n",
        "def min_max_scaler(X, feature_range=(0, 1)):\n",
        "    X_min = np.min(X, axis=0)\n",
        "    X_max = np.max(X, axis=0)\n",
        "\n",
        "    X_scaled = (X-X_min)/(X_max-X_min)\n",
        "\n",
        "    return X_scaled\n",
        "\n",
        "# Feature normalization\n",
        "X = min_max_scaler(X)\n",
        "X_train, X_test, y_train, y_test = train_test_split(X, y, test_size=0.25, random_state=42)\n",
        "print(\"Shape of X_train: \",X_train.shape, \"Shape of y_train: \",y_train.shape)\n",
        "print(\"Shape of X_test: \",X_test.shape, \"Shape of y_test: \",y_test.shape)"
      ]
    },
    {
      "cell_type": "markdown",
      "metadata": {
        "id": "K8SbmjD945Ra"
      },
      "source": [
        "### 2.2. Creating the Sigmoid Function\n",
        "Recall that for logistic regression, the model is represented as\n",
        "\n",
        "$$ f_{\\mathbf{w},b}(x) = g(\\mathbf{w}\\cdot \\mathbf{x} + b)$$\n",
        "where function $g$ is the sigmoid function. The sigmoid function is defined as:\n",
        "\n",
        "$$g(z) = \\frac{1}{1+e^{-z}}$$\n",
        "\n",
        "\n",
        "The function below returns the value of the sigmoid function for an input numpy array z. If the numpy array 'z' stores multiple numbers, we'd like to apply the sigmoid function to each value in the input array"
      ]
    },
    {
      "cell_type": "code",
      "execution_count": 45,
      "metadata": {
        "id": "G44B1vITbBpE"
      },
      "outputs": [],
      "source": [
        "## CODE REQUIRED ##\n",
        "\n",
        "def sigmoid(z):\n",
        "    \"\"\"\n",
        "    Compute the sigmoid of z\n",
        "\n",
        "    Args:\n",
        "        z: A scalar or numpy array of any size.\n",
        "\n",
        "    Returns:\n",
        "        g: sigmoid(z)\n",
        "    \"\"\"\n",
        "    g = None\n",
        "    z = z.astype(float)\n",
        "    ### START CODE HERE ###\n",
        "    t = 1 + np.exp(-z)\n",
        "    g = 1 / t\n",
        "    ### END SOLUTION ###\n",
        "\n",
        "    return g"
      ]
    },
    {
      "cell_type": "markdown",
      "metadata": {
        "id": "kV-Ygf1R8HMl"
      },
      "source": [
        "### 2.3. Computing the loss Function\n",
        "\n",
        "Recall that for logistic regression, the cost function is of the form\n",
        "\n",
        "$$ J(\\mathbf{w},b) = \\frac{1}{m}\\sum_{i=0}^{m-1} \\left[ loss(f_{\\mathbf{w},b}(\\mathbf{x}^{(i)}), y^{(i)}) \\right] \\tag{1}$$\n",
        "\n",
        "where\n",
        "* m is the number of training examples in the dataset\n",
        "\n",
        "\n",
        "* $loss(f_{\\mathbf{w},b}(\\mathbf{x}^{(i)}), y^{(i)})$ is the cost for a single data point, which is -\n",
        "\n",
        "    $$loss(f_{\\mathbf{w},b}(\\mathbf{x}^{(i)}), y^{(i)}) = (-y^{(i)} \\log\\left(f_{\\mathbf{w},b}\\left( \\mathbf{x}^{(i)} \\right) \\right) - \\left( 1 - y^{(i)}\\right) \\log \\left( 1 - f_{\\mathbf{w},b}\\left( \\mathbf{x}^{(i)} \\right) \\right) \\tag{2}$$\n",
        "    \n",
        "    \n",
        "*  $f_{\\mathbf{w},b}(\\mathbf{x}^{(i)})$ is the model's prediction, while $y^{(i)}$, which is the actual label\n",
        "\n",
        "*  $f_{\\mathbf{w},b}(\\mathbf{x}^{(i)}) = g(\\mathbf{w} \\cdot \\mathbf{x^{(i)}} + b)$ where function $g$ is the sigmoid function.\n",
        "\n",
        "Please complete the function loss_function that takes\n",
        "\n",
        " **X**  (input features)\n",
        "\n",
        " **y**  (class labels)\n",
        "\n",
        " **w**  (Parameters of the logistic regression model, (excluding the bias), a numpy array of the shape(1, number of features))\n",
        "\n",
        " **b**  (Bias value of the logistic regression model)\n",
        "\n",
        " You can use the Sigmoid function that you implemented above."
      ]
    },
    {
      "cell_type": "code",
      "execution_count": 46,
      "metadata": {
        "id": "h9RVguhHbEVk"
      },
      "outputs": [],
      "source": [
        "## CODE REQUIRED ##\n",
        "def loss_function(X, y, w, b):\n",
        "    \"\"\"\n",
        "    Computes the loss function for all the training examples\n",
        "    Args:\n",
        "    X: Input data of the shape (# of training samples, # of input features)\n",
        "    y: Target variable of the shape (# of training sample,)\n",
        "    w: Parameters of the logistic regression model (excluding the bias) of the shape (1, number of features)\n",
        "    b: Bias parameter (scalar) of the logistic regression model\n",
        "\n",
        "    Returns:\n",
        "    total_cost: The loss function value of using w and b as the parameters to fit the data points in X and y\n",
        "\n",
        "    \"\"\"\n",
        "    m, n = X.shape\n",
        "\n",
        "    total_cost = 0\n",
        "    ### START CODE HERE ###\n",
        "    z = np.dot(X, w.T) + b\n",
        "    prediction = sigmoid(z)\n",
        "    total_cost = (-1/m) * np.sum(y * np.log(prediction) + (1 - y) * np.log(1 - prediction))\n",
        "    ### END CODE HERE ###\n",
        "\n",
        "    return total_cost"
      ]
    },
    {
      "cell_type": "markdown",
      "metadata": {
        "id": "S9YmUPnsASYE"
      },
      "source": [
        "### 2.4. Computing the Gradient of the Loss\n",
        "\n",
        "Recall that the gradient descent algorithm is:\n",
        "\n",
        "$$\\begin{align*}& \\text{repeat until convergence:} \\; \\lbrace \\newline \\; & b := b -  \\alpha \\frac{\\partial J(\\mathbf{w},b)}{\\partial b} \\newline       \\; & w_j := w_j -  \\alpha \\frac{\\partial J(\\mathbf{w},b)}{\\partial w_j} \\tag{1}  \\; & \\text{for j := 0..n-1}\\newline & \\rbrace\\end{align*}$$\n",
        "\n",
        "where, parameters $b$, $w_j$ are all updated simultaniously\n",
        "\n",
        "In this step, you are required to complete the `compute_gradient_logistic_regression` function to compute $\\frac{\\partial J(\\mathbf{w},b)}{\\partial w}$, $\\frac{\\partial J(\\mathbf{w},b)}{\\partial b}$ from equations (2) and (3) below.\n",
        "\n",
        "$$\n",
        "\\frac{\\partial J(\\mathbf{w},b)}{\\partial b}  = \\frac{1}{m} \\sum\\limits_{i = 0}^{m-1} (f_{\\mathbf{w},b}(\\mathbf{x}^{(i)}) - \\mathbf{y}^{(i)}) \\tag{2}\n",
        "$$\n",
        "$$\n",
        "\\frac{\\partial J(\\mathbf{w},b)}{\\partial w_j}  = \\frac{1}{m} \\sum\\limits_{i = 0}^{m-1} (f_{\\mathbf{w},b}(\\mathbf{x}^{(i)}) - \\mathbf{y}^{(i)})x_{j}^{(i)} \\tag{3}\n",
        "$$\n",
        "* m is the number of training examples in the dataset\n",
        "\n",
        "    \n",
        "*  $f_{\\mathbf{w},b}(x^{(i)})$ is the model's prediction, while $y^{(i)}$ is the actual label\n",
        "\n",
        "You can use the sigmoid function that you implemented above."
      ]
    },
    {
      "cell_type": "code",
      "execution_count": 47,
      "metadata": {
        "id": "PWxbewKkbIB8"
      },
      "outputs": [],
      "source": [
        "## CODE REQUIRED ##\n",
        "\n",
        "def compute_gradient_logistic_regression(X, y, w, b):\n",
        "    \"\"\"\n",
        "    Computes the gradient values of the loss function\n",
        "    Args:\n",
        "       X: Input data of the shape (# of training samples, # of input features)\n",
        "       y: Target variable of the shape (# of training sample,)\n",
        "       w: Parameters of the logistic regression model (excluding the bias) of the shape (1, number of features)\n",
        "       b: Bias parameter of the logistic regression model of the shape (1,1) or a scaler\n",
        "    Returns:\n",
        "       dL_dw : The gradient of the cost w.r.t. the parameters w with shape same as w\n",
        "       dL_db : The gradient of the cost w.r.t. the parameter b with shape same as b\n",
        "    \"\"\"\n",
        "    m, n = X.shape\n",
        "    dj_dw = np.zeros(w.shape)\n",
        "    dj_db = 0\n",
        "\n",
        "    ### START CODE HERE ###\n",
        "    z = np.dot(X, w.T) + b\n",
        "    prediction = sigmoid(z)\n",
        "    dj_db = (1/m) * np.sum(prediction - y)\n",
        "    dj_dw = (1/m) * np.dot((prediction - y).T, X)\n",
        "    ### END CODE HERE ###\n",
        "\n",
        "\n",
        "    return dj_db, dj_dw"
      ]
    },
    {
      "cell_type": "markdown",
      "metadata": {
        "id": "6ZMYX655MRFX"
      },
      "source": [
        "### 2.5. Training the model using Batch Gradient Descent\n",
        "\n",
        "Please complete the batch gradient descent algorithm for logistic regression to train and learn the parameters of the logistic regression model. You have to use ```loss_function``` and ```compute_gradient_logistic regression``` functions that you have implemented earlier in this assignment.\n",
        "\n",
        "In this ```batch_gradient_descent_logistic_regression``` function, you have to compute the gradient for the training samples and update the parameters $w$ and $b$ in every iteration:\n",
        "\n",
        "+ $w \\leftarrow w - \\alpha \\frac{\\partial L}{\\partial w}$\n",
        "\n",
        "+ $b \\leftarrow b - \\alpha \\frac{\\partial L}{\\partial b}$\n",
        "\n",
        "This function takes   ```X```    (input features),  ```y```  (class labels),  ```w_in```  (intial values of parameters(excluding bias)),  ```b_in```  (initial value for bias),  ```num_iters```   (number of iterations of training) as input.\n",
        "\n",
        "Additionally, you have compute the loss function values in every iteration and store it in the list variable ```loss_hist``` and print the loss value after every 100 iterations during the training process."
      ]
    },
    {
      "cell_type": "code",
      "execution_count": 48,
      "metadata": {
        "id": "JOi07RVNbL_7"
      },
      "outputs": [],
      "source": [
        "## CODE REQUIRED ##\n",
        "\n",
        "def batch_gradient_descent_logistic_regression(X, y, w_in, b_in, alpha, num_iters):\n",
        "    \"\"\"\n",
        "    Batch gradient descent to learn the parameters (w and b) of the linear regression model and to print loss values\n",
        "    every 100 iterations\n",
        "\n",
        "    Args:\n",
        "        X: Input data of the shape (# of training samples, # of input features)\n",
        "        y: Target variable of the shape (# of training sample,)\n",
        "        w_in: Initial parameters of the logistic regression model (excluding the bias) of the shape (1, number of features)\n",
        "        b_in: Initial bias parameter (scalar) of the logistic regression model\n",
        "        alpha: Learning rate\n",
        "        num_iters: number of iterations\n",
        "    Returns\n",
        "        w: Updated values of parameters of the model after training\n",
        "        b: Updated bias of the model after training\n",
        "        loss_hist: List of loss values for every iteration\n",
        "    \"\"\"\n",
        "\n",
        "    # number of training examples\n",
        "    m = len(X)\n",
        "\n",
        "    # list to store the loss values for every iterations\n",
        "    loss_hist = []\n",
        "\n",
        "    ### START CODE HERE ###\n",
        "    for i in range(num_iters):\n",
        "      dj_db, dj_dw =  compute_gradient_logistic_regression(X, y, w_in, b_in)\n",
        "      w_in = w_in - alpha * dj_dw\n",
        "      b_in = b_in - alpha * dj_db\n",
        "      loss_hist.append(loss_function(X, y, w_in, b_in))\n",
        "      if(i % 100 == 0):\n",
        "        print(f\"iter {i}: loss{loss_function(X, y, w_in, b_in):.4f}\")\n",
        "    ### END CODE HERE ###\n",
        "\n",
        "    return w_in, b_in, loss_hist"
      ]
    },
    {
      "cell_type": "markdown",
      "metadata": {
        "id": "3yeLdzT9-5Wc"
      },
      "source": [
        "Now you have to intialize the model parameters ($w$ and $b$) and learning rate (```alpha```). The learning rate ```alpha``` has to be randomly initialized between 0.01 and 0.09. To randomly initialize the learning rate, you have to first set the last two digits of your roll number as the random seed using ```random.seed()``` function."
      ]
    },
    {
      "cell_type": "code",
      "execution_count": 49,
      "metadata": {
        "id": "MIBltyJh-Tjk"
      },
      "outputs": [],
      "source": [
        "## CODE REQUIRED ##\n",
        "\n",
        "## set the last two digits of your roll number as the random seed\n",
        "random_seed = None\n",
        "### START CODE HERE ###\n",
        "random_seed = 39\n",
        "### END CODE HERE ###\n",
        "np.random.seed(random_seed)\n",
        "\n",
        "def initialize_parameters():\n",
        "    \"\"\"\n",
        "    This function randomly initializes the model parameters (w and b) and the hyperparameter alpha\n",
        "    Initial w and b should be randomly sampled from a normal distribution with mean 0\n",
        "    alpha should be randomly initialized between 0.01 and 0.09 by using last two digits of your roll number as the random seed\n",
        "    Args:\n",
        "        None\n",
        "    Returns:\n",
        "        initial_w: Initial parameters of the linear regression model (excluding the bias) of the shape (1, number of features)\n",
        "        initial_b: Initial bias parameter (scalar) of the linear regression model\n",
        "        alpha: Learning rate\n",
        "    \"\"\"\n",
        "\n",
        "    initial_w = None\n",
        "    initial_b = None\n",
        "    alpha = None\n",
        "\n",
        "    ### START CODE HERE ###\n",
        "    initial_w = np.random.normal(0, 1, X.shape[1])\n",
        "    initial_b = 0.0\n",
        "    alpha = np.random.uniform(0.01, 0.09)\n",
        "    ### END CODE HERE ###\n",
        "\n",
        "    return initial_w,initial_b,alpha"
      ]
    },
    {
      "cell_type": "markdown",
      "metadata": {
        "id": "KT5CbQ8dZS_J"
      },
      "source": [
        "The following cell runs the batch gradient algorithm for\n",
        "```num_iterations=1000``` to train the logistic regression model. You can change the number of iterations to check any improvements in the performance"
      ]
    },
    {
      "cell_type": "code",
      "execution_count": 50,
      "metadata": {
        "id": "KFTZi7pkbOdp",
        "colab": {
          "base_uri": "https://localhost:8080/"
        },
        "outputId": "56573fae-d571-4d32-8fb7-f53bc7a130f8"
      },
      "outputs": [
        {
          "output_type": "stream",
          "name": "stdout",
          "text": [
            "iter 0: loss0.9895\n",
            "iter 100: loss0.7484\n",
            "iter 200: loss0.7083\n",
            "iter 300: loss0.6731\n",
            "iter 400: loss0.6422\n",
            "iter 500: loss0.6153\n",
            "iter 600: loss0.5917\n",
            "iter 700: loss0.5711\n",
            "iter 800: loss0.5531\n",
            "iter 900: loss0.5373\n",
            "optimized parameter values w: [0.8891890758124028 0.8701560288736291 1.7204629291600226\n",
            " -2.658230271664379 0.07811417360979547 1.862191979858962\n",
            " 0.5435111780852145 -1.7727563709191474 -0.332528106156703]\n",
            "optimized parameter value b: 0.4684953721034564\n"
          ]
        }
      ],
      "source": [
        "# initialize the parameters (w an b) randomly\n",
        "initial_w, initial_b, alpha = initialize_parameters()\n",
        "num_iterations = 1000\n",
        "\n",
        "w, b, loss_hist = batch_gradient_descent_logistic_regression(X_train ,y_train, initial_w, initial_b, alpha, num_iterations)\n",
        "print(\"optimized parameter values w:\", w)\n",
        "print(\"optimized parameter value b:\", b)"
      ]
    },
    {
      "cell_type": "markdown",
      "metadata": {
        "id": "pYP0-YUyY50x"
      },
      "source": [
        "### 2.6. Final Train and Test Accuracy\n",
        "After the logistic regression model is trained, we will predict the class labels for the training set and test set and we will compute the accuracy.\n",
        "\n",
        "Please complete the `predict` function to produce `1` or `0` predictions given a dataset and a learned parameter vector $w$ and $b$.\n",
        "- First you need to compute the prediction from the model $f(x^{(i)}) = g(w \\cdot x^{(i)})$ for every example\n",
        "\n",
        "- We interpret the output of the model ($f(x^{(i)})$) as the probability that $y^{(i)}=1$ given $x^{(i)}$ and parameterized by $w$.\n",
        "- Therefore, to get a final prediction ($y^{(i)}=0$ or $y^{(i)}=1$) from the logistic regression model, you can use the following heuristic -\n",
        "\n",
        "  if $f(x^{(i)}) >= 0.5$, predict $y^{(i)}=1$\n",
        "  \n",
        "  if $f(x^{(i)}) < 0.5$, predict $y^{(i)}=0$"
      ]
    },
    {
      "cell_type": "code",
      "execution_count": 51,
      "metadata": {
        "id": "mZDUV2iwbQ_R"
      },
      "outputs": [],
      "source": [
        "def predict(X, w, b):\n",
        "      \"\"\"\n",
        "      Predict whether the label is 0 or 1 using learned logistic regression parameters (w,b)\n",
        "\n",
        "      Args:\n",
        "        X: Input data of shape (number of sample, number of features)\n",
        "        w: Parameters of the logistic regression model (excluding the bias) of the shape (1, number of features)\n",
        "        b: Bias parameter of the logistic regression model\n",
        "\n",
        "      Returns:\n",
        "        p: Predictions for X using a threshold at 0.5\n",
        "      \"\"\"\n",
        "      m, n = X.shape\n",
        "      p = np.zeros(m)\n",
        "      ### START CODE HERE###\n",
        "      z = np.dot(w, X.T) + b\n",
        "      prediction = sigmoid(z)\n",
        "      p = np.where(prediction >= 0.5, 1, 0)\n",
        "\n",
        "      ### END CODE HERE ###\n",
        "      return p"
      ]
    },
    {
      "cell_type": "markdown",
      "metadata": {
        "id": "zsrATkIy2KVy"
      },
      "source": [
        "Now let's use this to compute the accuracy on the training and test datasets"
      ]
    },
    {
      "cell_type": "code",
      "execution_count": 52,
      "metadata": {
        "id": "UMmh6WdFbU9Y",
        "colab": {
          "base_uri": "https://localhost:8080/"
        },
        "outputId": "c348dd54-a824-4a28-9278-82a7bf9fa2a2"
      },
      "outputs": [
        {
          "output_type": "stream",
          "name": "stdout",
          "text": [
            "Train Accuracy: 80.000000\n",
            "Test Accuracy: 79.680000\n"
          ]
        }
      ],
      "source": [
        "p_train = predict(X_train, w,b)\n",
        "print('Train Accuracy: %f'%(np.mean(p_train == y_train) * 100))\n",
        "p_test = predict(X_test, w,b)\n",
        "print('Test Accuracy: %f'%(np.mean(p_test == y_test) * 100))"
      ]
    },
    {
      "cell_type": "markdown",
      "metadata": {
        "id": "B0VqjFy9ZK7D"
      },
      "source": [
        "Now, we plot the loss function values for every iteration."
      ]
    },
    {
      "cell_type": "code",
      "execution_count": 53,
      "metadata": {
        "id": "fkmP3XHMTW74",
        "colab": {
          "base_uri": "https://localhost:8080/",
          "height": 449
        },
        "outputId": "85fd1bda-6bff-4f14-cc85-9513674dc6fe"
      },
      "outputs": [
        {
          "output_type": "display_data",
          "data": {
            "text/plain": [
              "<Figure size 640x480 with 1 Axes>"
            ],
            "image/png": "[encoded data removed]"
          },
          "metadata": {}
        }
      ],
      "source": [
        "# PLotting the loss values for every training iterations\n",
        "\n",
        "loss_plot = [loss_hist[i] for i in range(len(loss_hist))]\n",
        "plt.xlabel(\"Iterations\")\n",
        "plt.ylabel(\"Loss function\")\n",
        "plt.plot(loss_plot)\n",
        "plt.show()"
      ]
    },
    {
      "cell_type": "markdown",
      "metadata": {
        "id": "JgKAU9RBEUlL"
      },
      "source": [
        "### 2.7 Experimenting with different values of the Hyperparemeters\n",
        "\n",
        "Previously, we randomly sampled the learning rate and the number of features to train the model. Now, you have to manually choose the number of features and the learning rate. Then, you have to train the model again on the manually choosen hyperparameters (number of features and learning rate). In the next cell, you have to manually choose the hyperparameters and write the code to train the model.\n",
        "\n",
        "After the model is trained, you have to compare the performance of the model with random chosen hyperparameters and the model **with** manually chosen hyperparameters."
      ]
    },
    {
      "cell_type": "code",
      "execution_count": 63,
      "metadata": {
        "id": "xMcc3cuvIbD_",
        "colab": {
          "base_uri": "https://localhost:8080/",
          "height": 761
        },
        "outputId": "8ee896c4-5ccb-4d64-cbb2-6c33c98e6342"
      },
      "outputs": [
        {
          "output_type": "stream",
          "name": "stderr",
          "text": [
            "<ipython-input-46-65ebb744a1de>:21: RuntimeWarning: divide by zero encountered in log\n",
            "  total_cost = (-1/m) * np.sum(y * np.log(prediction) + (1 - y) * np.log(1 - prediction))\n",
            "<ipython-input-46-65ebb744a1de>:21: RuntimeWarning: invalid value encountered in multiply\n",
            "  total_cost = (-1/m) * np.sum(y * np.log(prediction) + (1 - y) * np.log(1 - prediction))\n"
          ]
        },
        {
          "output_type": "stream",
          "name": "stdout",
          "text": [
            "iter 0: lossnan\n",
            "iter 100: loss6.7841\n",
            "iter 200: loss0.8581\n",
            "iter 300: loss0.7114\n",
            "iter 400: loss0.6757\n",
            "iter 500: loss0.6439\n",
            "iter 600: loss0.6156\n",
            "iter 700: loss0.5905\n",
            "iter 800: loss0.5683\n",
            "iter 900: loss0.5486\n",
            "optimized parameter values w: [-1.9100997490932325 0.1370630630783957 2.0471293400532344\n",
            " -1.914210846638467 2.0921156656202102 2.637122152095676 3.321546509759743\n",
            " 1.5774355706853775 2.5089312402861217]\n",
            "optimized parameter value b: -6.947722512802402\n"
          ]
        },
        {
          "output_type": "display_data",
          "data": {
            "text/plain": [
              "<Figure size 640x480 with 1 Axes>"
            ],
            "image/png": "[encoded data removed]"
          },
          "metadata": {}
        }
      ],
      "source": [
        "## CODE REQUIRED ##\n",
        "\n",
        "\"\"\"\n",
        "Manually choose the hyperparameters (learning rate and number of features) and train the model.\n",
        "Then compare the performance with random chosen hyperparameters and manually chosen hyperparameters.\n",
        "\"\"\"\n",
        "\n",
        "### START CODE HERE ###\n",
        "\n",
        "initial_w = np.array([1,2,3,4,5,6,7,8,9])\n",
        "initial_b = 0.0\n",
        "alpha = 0.07\n",
        "num_iterations = 1000\n",
        "\n",
        "w, b, loss_hist = batch_gradient_descent_logistic_regression(X_train ,y_train, initial_w, initial_b, alpha, num_iterations)\n",
        "\n",
        "print(\"optimized parameter values w:\", w)\n",
        "print(\"optimized parameter value b:\", b)\n",
        "\n",
        "loss_plot = [loss_hist[i] for i in range(len(loss_hist))]\n",
        "plt.xlabel(\"Iterations\")\n",
        "plt.ylabel(\"Loss function\")\n",
        "plt.plot(loss_plot)\n",
        "plt.show()\n",
        "### END CODE HERE ###"
      ]
    }
  ],
  "metadata": {
    "colab": {
      "provenance": []
    },
    "kernelspec": {
      "display_name": "Python 3 (ipykernel)",
      "language": "python",
      "name": "python3"
    },
    "language_info": {
      "codemirror_mode": {
        "name": "ipython",
        "version": 3
      },
      "file_extension": ".py",
      "mimetype": "text/x-python",
      "name": "python",
      "nbconvert_exporter": "python",
      "pygments_lexer": "ipython3",
      "version": "3.11.5"
    }
  },
  "nbformat": 4,
  "nbformat_minor": 0
}